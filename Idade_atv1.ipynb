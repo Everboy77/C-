{
  "nbformat": 4,
  "nbformat_minor": 0,
  "metadata": {
    "colab": {
      "provenance": [],
      "authorship_tag": "ABX9TyNKMPJOZdqy584fxiNWSUi4",
      "include_colab_link": true
    },
    "kernelspec": {
      "name": "python3",
      "display_name": "Python 3"
    },
    "language_info": {
      "name": "python"
    }
  },
  "cells": [
    {
      "cell_type": "markdown",
      "metadata": {
        "id": "view-in-github",
        "colab_type": "text"
      },
      "source": [
        "<a href=\"https://colab.research.google.com/github/everton-mali/C-/blob/main/Idade_atv1.ipynb\" target=\"_parent\"><img src=\"https://colab.research.google.com/assets/colab-badge.svg\" alt=\"Open In Colab\"/></a>"
      ]
    },
    {
      "cell_type": "code",
      "execution_count": 1,
      "metadata": {
        "colab": {
          "base_uri": "https://localhost:8080/"
        },
        "id": "PCzNAt2g29Cu",
        "outputId": "b29710fb-c313-4ebc-bd20-e96746881e30"
      },
      "outputs": [
        {
          "name": "stdout",
          "output_type": "stream",
          "text": [
            "Digite a primeira idade: 10 \n",
            "Digite a segunda idade: 20\n"
          ]
        }
      ],
      "source": [
        "idade1 = input('Digite a primeira idade: ')\n",
        "idade2 = input('Digite a segunda idade: ')"
      ]
    }
  ]
}